{
 "cells": [
  {
   "cell_type": "markdown",
   "id": "01ea88cb",
   "metadata": {},
   "source": [
    "# Task 04"
   ]
  },
  {
   "cell_type": "code",
   "execution_count": null,
   "id": "6a94cd01",
   "metadata": {},
   "outputs": [],
   "source": [
    "import pandas as pd\n",
    "import matplotlib.pyplot as plt\n",
    "import seaborn as sb\n",
    "import folium\n",
    "from folium.plugins import HeatMap\n"
   ]
  },
  {
   "cell_type": "code",
   "execution_count": null,
   "id": "9e84b477",
   "metadata": {},
   "outputs": [],
   "source": [
    "df = pd.read_csv(r\"C:\\Users\\Lenovo\\Downloads\\US_Accidents_March23.csv\\US_Accidents_March23.csv\", engine='python')"
   ]
  },
  {
   "cell_type": "code",
   "execution_count": null,
   "id": "57f0e528",
   "metadata": {},
   "outputs": [],
   "source": [
    "df['Start_Time'] = pd.to_datetime(df['Start_Time'])\n",
    "df['Hour'] = df['Start_Time'].dt.hour\n",
    "df['Day_Night'] = df['Hour'].apply(lambda x: 'Night (6PM-6AM)' if x < 6 or x >= 18 else 'Day (6AM-6PM)')\n",
    "df['Weekday'] = df['Start_Time'].dt.day_name()"
   ]
  },
  {
   "cell_type": "code",
   "execution_count": null,
   "id": "abd749ce",
   "metadata": {},
   "outputs": [],
   "source": [
    "plt.figure(figsize=(12, 5))\n",
    "sb.countplot(x='Hour', data=df, palette='Blues')\n",
    "plt.title('Accidents by Hour of Day')\n",
    "plt.xlabel('Hour')\n",
    "plt.ylabel('Number of Accidents')\n",
    "plt.show()"
   ]
  },
  {
   "cell_type": "code",
   "execution_count": null,
   "id": "059ade32",
   "metadata": {},
   "outputs": [],
   "source": [
    "plt.figure(figsize=(6, 6))\n",
    "df['Day_Night'].value_counts().plot.pie(autopct='%1.1f%%', colors=['skyblue', 'navy'])\n",
    "plt.title('Day vs. Night Accidents')\n",
    "plt.ylabel('')\n",
    "plt.show()"
   ]
  },
  {
   "cell_type": "code",
   "execution_count": null,
   "id": "b6fd0ad9",
   "metadata": {},
   "outputs": [],
   "source": [
    "plt.figure(figsize=(10, 5))\n",
    "road_conditions = df['Road_Conditions'].value_counts().head(5)\n",
    "sb.barplot(x=road_conditions.index, y=road_conditions.values, palette='viridis')\n",
    "plt.title('Top 5 Road Conditions in Accidents')\n",
    "plt.xlabel('Road Condition')\n",
    "plt.ylabel('Accidents')\n",
    "plt.xticks(rotation=15)\n",
    "plt.show()"
   ]
  },
  {
   "cell_type": "code",
   "execution_count": null,
   "id": "340c9996",
   "metadata": {},
   "outputs": [],
   "source": [
    "sample_df = df.sample(1000)\n",
    "\n",
    "map_center = [df['Start_Lat'].mean(), df['Start_Lng'].mean()]\n",
    "m = folium.Map(location=map_center, zoom_start=5)\n",
    "HeatMap(sample_df[['Start_Lat', 'Start_Lng']].values, radius=15).add_to(m)\n",
    "m.save('accident_hotspots.html')  "
   ]
  },
  {
   "cell_type": "code",
   "execution_count": null,
   "id": "39274f6b",
   "metadata": {},
   "outputs": [],
   "source": [
    "plt.figure(figsize=(12, 6))\n",
    "factors = df['Cause'].value_counts().head(5)\n",
    "sb.barplot(x=factors.index, y=factors.values, palette='magma')\n",
    "plt.title('Top 5 Accident Causes')\n",
    "plt.xlabel('Cause')\n",
    "plt.ylabel('Count')\n",
    "plt.xticks(rotation=45)\n",
    "plt.show()"
   ]
  }
 ],
 "metadata": {
  "kernelspec": {
   "display_name": "Python 3 (ipykernel)",
   "language": "python",
   "name": "python3"
  },
  "language_info": {
   "codemirror_mode": {
    "name": "ipython",
    "version": 3
   },
   "file_extension": ".py",
   "mimetype": "text/x-python",
   "name": "python",
   "nbconvert_exporter": "python",
   "pygments_lexer": "ipython3",
   "version": "3.11.5"
  }
 },
 "nbformat": 4,
 "nbformat_minor": 5
}
